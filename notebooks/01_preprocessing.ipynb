{
 "cells": [
  {
   "cell_type": "markdown",
   "metadata": {},
   "source": [
    "Alle im Folgenden genutzten Dateien sind unter [datasets](https://github.com/WanjaGe/Charles-Burney-digital/tree/ce18f6310865421edc3ed932e6570d42f2a25567/datasets) verfügbar. Um das Skript nachzuvollziehen müssen lediglich die Dateipfade angepasst werden."
   ]
  },
  {
   "cell_type": "code",
   "execution_count": null,
   "metadata": {},
   "outputs": [],
   "source": [
    "# \"¬\"Zeichen entfernen und Wörter verbinden\n",
    "\n",
    "def reflow(infile, outfile):\n",
    "    with open(infile) as source, open(outfile, \"w\") as dest:\n",
    "        holdover = \"\"\n",
    "        for line in source:\n",
    "            line = line.rstrip(\"\\n\")  # Zeilenumbruch entfernen\n",
    "            \n",
    "            # '¬' und (falls vorhanden) darauffolgendes Leerzeichen entfernen\n",
    "            line = line.replace(\"¬ \", \"\")\n",
    "            line = line.replace(\"¬\", \"\")\n",
    "            \n",
    "            if holdover:\n",
    "                line = holdover + line.lstrip()  # Leerzeichen entfernen, Linien zusammenführen\n",
    "                holdover = \"\"\n",
    "            \n",
    "            if line.endswith(\"-\"):\n",
    "                holdover = line.rstrip(\"-\")  # Linie ohne Bindestrich speichern\n",
    "            else:\n",
    "                dest.write(line + \"\\n\")\n",
    "\n",
    "if __name__ == \"__main__\":\n",
    "    reflow(\"/Users/wanjagerber/desktop/txt/venice.txt\", \"/Users/wanjagerber/desktop/txt/veniceModified.txt\")\n"
   ]
  },
  {
   "cell_type": "markdown",
   "metadata": {},
   "source": [
    "Um bei der Transkription des Drucktextes Zeit zu sparen wurden die Seitenzahlen auch transkribiert und in den Volltext aufgenommen. Das folgende Skript entfernt diese."
   ]
  },
  {
   "cell_type": "code",
   "execution_count": 3,
   "metadata": {},
   "outputs": [],
   "source": [
    "#Seitenzahlen entfernen\n",
    "\n",
    "import re\n",
    "\n",
    "def remove_three_digit_numbers(infile, outfile):\n",
    "    with open(infile) as source, open(outfile, \"w\") as dest:\n",
    "        for line in source:\n",
    "            # Entferne alle Nummern, die aus drei Zeichen bestehen\n",
    "            line_without_numbers = re.sub(r'\\b\\d{3}\\b', '', line)\n",
    "            # Entferne Leerzeichen\n",
    "            line_without_whitespace = re.sub(r'[ \\t]+', ' ', line_without_numbers).strip()\n",
    "            # Zeilenumbruch einfügen\n",
    "            dest.write(line_without_whitespace + \"\\n\")\n",
    "\n",
    "if __name__ == \"__main__\":\n",
    "    remove_three_digit_numbers(\"/Users/wanjagerber/desktop/txt/veniceModified.txt\", \"/Users/wanjagerber/desktop/txt/veniceReady.txt\")\n"
   ]
  },
  {
   "cell_type": "code",
   "execution_count": 4,
   "metadata": {},
   "outputs": [],
   "source": [
    "#Zeilenumbruch nach jedem Satz\n",
    "\n",
    "import re\n",
    "\n",
    "def process_text(input_file, output_file):\n",
    "   \n",
    "    with open(input_file, 'r', encoding='utf-8') as infile:\n",
    "        text = infile.read()\n",
    "\n",
    "    # Entferne alle Zeilenumbrüche, die sich nicht am Ende eines Satzes befinden\n",
    "    text = re.sub(r'(?<!\\.)\\n', ' ', text)\n",
    "\n",
    "    # Zeilenumbruch nach jedem Satz\n",
    "    sentences = re.split(r'(?<=\\.)\\s+', text)\n",
    "    formatted_text = '\\n'.join(sentences)\n",
    "\n",
    "    \n",
    "    with open(output_file, 'w', encoding='utf-8') as outfile:\n",
    "        outfile.write(formatted_text)\n",
    "\n",
    "if __name__ == \"__main__\":\n",
    "    input_path = '/Users/wanjagerber/desktop/txt/veniceReady.txt'\n",
    "    output_path = '/Users/wanjagerber/desktop/txt/veniceFinal.txt'\n",
    "    process_text(input_path, output_path)\n",
    "\n",
    "            "
   ]
  },
  {
   "cell_type": "code",
   "execution_count": 6,
   "metadata": {},
   "outputs": [
    {
     "name": "stdout",
     "output_type": "stream",
     "text": [
      "Anzahl Zeichen im Text: 51023\n",
      "Anzahl Tokens im Text: 10698\n",
      "Anzahl Sätze im Text: 257\n"
     ]
    }
   ],
   "source": [
    "with open (\"/Users/wanjagerber/desktop/txt/veniceFinal.txt\",'r', encoding='utf-8') as file: \n",
    "    text = file.read()\n",
    "\n",
    "\n",
    "print(\"Anzahl Zeichen im Text: \" + str(len(text)))\n",
    "\n",
    "import spacy\n",
    "\n",
    "nlp = spacy.load(\"en_core_web_sm\")\n",
    "doc = nlp(text)\n",
    "\n",
    "\n",
    "tokens = []\n",
    "for token in doc: \n",
    "    tokens.append(token)\n",
    "\n",
    "print(\"Anzahl Tokens im Text: \" + str(len(tokens)))\n",
    "\n",
    "sentences = []\n",
    "for sent in doc.sents: \n",
    "    sentences.append(sent)\n",
    "\n",
    "print(\"Anzahl Sätze im Text: \" + str(len(sentences)))\n",
    "\n",
    "with open('/Users/wanjagerber/desktop/txt/veniceFinal_sentences.txt', 'w', encoding='utf-8') as f:\n",
    "    for s in sentences: \n",
    "        if str(s).endswith('.'):\n",
    "            f.write(str(s) + '\\n')\n",
    "        else:\n",
    "             f.write(str(s) + ' ')\n",
    "            "
   ]
  },
  {
   "cell_type": "markdown",
   "metadata": {},
   "source": [
    "Nachdem das Preprocessing abgeschlossen ist, kann die Auszeichnung des Goldstandards durch den NER-Annotator stattfinden (siehe Dokumentation)."
   ]
  }
 ],
 "metadata": {
  "kernelspec": {
   "display_name": "base",
   "language": "python",
   "name": "python3"
  },
  "language_info": {
   "codemirror_mode": {
    "name": "ipython",
    "version": 3
   },
   "file_extension": ".py",
   "mimetype": "text/x-python",
   "name": "python",
   "nbconvert_exporter": "python",
   "pygments_lexer": "ipython3",
   "version": "3.11.5"
  }
 },
 "nbformat": 4,
 "nbformat_minor": 2
}
