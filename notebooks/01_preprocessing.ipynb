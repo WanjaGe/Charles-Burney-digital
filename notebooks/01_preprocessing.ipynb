{
 "cells": [
  {
   "cell_type": "code",
   "execution_count": null,
   "metadata": {},
   "outputs": [],
   "source": [
    "# \"¬\"Zeichen entfernen und Wörter verbinden\n",
    "\n",
    "def reflow(infile, outfile):\n",
    "    with open(infile) as source, open(outfile, \"w\") as dest:\n",
    "        holdover = \"\"\n",
    "        for line in source:\n",
    "            line = line.rstrip(\"\\n\")  # Strip the newline character\n",
    "            \n",
    "            # Remove '¬' and the following space if present\n",
    "            line = line.replace(\"¬ \", \"\")\n",
    "            line = line.replace(\"¬\", \"\")\n",
    "            \n",
    "            if holdover:\n",
    "                line = holdover + line.lstrip()  # Combine holdover with the current line, removing leading spaces\n",
    "                holdover = \"\"\n",
    "            \n",
    "            if line.endswith(\"-\"):\n",
    "                holdover = line.rstrip(\"-\")  # Store the line without the hyphen\n",
    "            else:\n",
    "                dest.write(line + \"\\n\")\n",
    "\n",
    "if __name__ == \"__main__\":\n",
    "    reflow(\"/Users/wanjagerber/desktop/txt/venice.txt\", \"/Users/wanjagerber/desktop/txt/veniceModified.txt\")\n"
   ]
  },
  {
   "cell_type": "code",
   "execution_count": 3,
   "metadata": {},
   "outputs": [],
   "source": [
    "#Seitenzahlen entfernen\n",
    "\n",
    "import re\n",
    "\n",
    "def remove_three_digit_numbers(infile, outfile):\n",
    "    with open(infile) as source, open(outfile, \"w\") as dest:\n",
    "        for line in source:\n",
    "            # Remove all three-digit numbers from the line\n",
    "            line_without_numbers = re.sub(r'\\b\\d{3}\\b', '', line)\n",
    "            # Remove extra whitespace (except for newlines)\n",
    "            line_without_whitespace = re.sub(r'[ \\t]+', ' ', line_without_numbers).strip()\n",
    "            # Write the processed line to the output file with a newline character\n",
    "            dest.write(line_without_whitespace + \"\\n\")\n",
    "\n",
    "if __name__ == \"__main__\":\n",
    "    remove_three_digit_numbers(\"/Users/wanjagerber/desktop/txt/veniceModified.txt\", \"/Users/wanjagerber/desktop/txt/veniceReady.txt\")\n"
   ]
  },
  {
   "cell_type": "code",
   "execution_count": 4,
   "metadata": {},
   "outputs": [],
   "source": [
    "#Zeilenumbruch nach jedem Satz\n",
    "\n",
    "import re\n",
    "\n",
    "def process_text(input_file, output_file):\n",
    "    # Read the entire content from the input file\n",
    "    with open(input_file, 'r', encoding='utf-8') as infile:\n",
    "        text = infile.read()\n",
    "\n",
    "    # Remove all line breaks that aren't at the end of a sentence\n",
    "    text = re.sub(r'(?<!\\.)\\n', ' ', text)\n",
    "\n",
    "    # Add a line break after each sentence\n",
    "    sentences = re.split(r'(?<=\\.)\\s+', text)\n",
    "    formatted_text = '\\n'.join(sentences)\n",
    "\n",
    "    # Write the formatted text to the output file\n",
    "    with open(output_file, 'w', encoding='utf-8') as outfile:\n",
    "        outfile.write(formatted_text)\n",
    "\n",
    "if __name__ == \"__main__\":\n",
    "    input_path = '/Users/wanjagerber/desktop/txt/veniceReady.txt'\n",
    "    output_path = '/Users/wanjagerber/desktop/txt/veniceFinal.txt'\n",
    "    process_text(input_path, output_path)\n",
    "\n",
    "            "
   ]
  },
  {
   "cell_type": "code",
   "execution_count": 6,
   "metadata": {},
   "outputs": [
    {
     "name": "stdout",
     "output_type": "stream",
     "text": [
      "Anzahl Zeichen im Text: 51023\n",
      "Anzahl Tokens im Text: 10698\n",
      "Anzahl Sätze im Text: 257\n"
     ]
    }
   ],
   "source": [
    "with open (\"/Users/wanjagerber/desktop/txt/veniceFinal.txt\",'r', encoding='utf-8') as file: \n",
    "    text = file.read()\n",
    "\n",
    "\n",
    "print(\"Anzahl Zeichen im Text: \" + str(len(text)))\n",
    "\n",
    "import spacy\n",
    "\n",
    "nlp = spacy.load(\"en_core_web_sm\")\n",
    "doc = nlp(text)\n",
    "\n",
    "\n",
    "tokens = []\n",
    "for token in doc: \n",
    "    tokens.append(token)\n",
    "\n",
    "print(\"Anzahl Tokens im Text: \" + str(len(tokens)))\n",
    "\n",
    "sentences = []\n",
    "for sent in doc.sents: \n",
    "    sentences.append(sent)\n",
    "\n",
    "print(\"Anzahl Sätze im Text: \" + str(len(sentences)))\n",
    "\n",
    "with open('/Users/wanjagerber/desktop/txt/veniceFinal_sentences.txt', 'w', encoding='utf-8') as f:\n",
    "    for s in sentences: \n",
    "        if str(s).endswith('.'):\n",
    "            f.write(str(s) + '\\n')\n",
    "        else:\n",
    "             f.write(str(s) + ' ')\n",
    "            "
   ]
  },
  {
   "cell_type": "markdown",
   "metadata": {},
   "source": [
    "Nachdem das Preprocessing abgeschlossen ist, kann die Auszeichnung des Goldstandards durch den NER-Annotator stattfinden (siehe Dokumentation)."
   ]
  }
 ],
 "metadata": {
  "kernelspec": {
   "display_name": "base",
   "language": "python",
   "name": "python3"
  },
  "language_info": {
   "codemirror_mode": {
    "name": "ipython",
    "version": 3
   },
   "file_extension": ".py",
   "mimetype": "text/x-python",
   "name": "python",
   "nbconvert_exporter": "python",
   "pygments_lexer": "ipython3",
   "version": "3.11.5"
  }
 },
 "nbformat": 4,
 "nbformat_minor": 2
}
