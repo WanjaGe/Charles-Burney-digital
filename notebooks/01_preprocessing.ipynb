#Preprocessing des Volltextes (Transkription der gedruckten Version via Transkribus)

{
 "cells": [
  {
   "cell_type": "code",
   "execution_count": null,
   "metadata": {},
   "outputs": [],
   "source": [
    "# \"¬\"Zeichen entfernen und Wörter verbinden\n",
    "def reflow(infile, outfile):\n",
    "    with open(infile) as source, open(outfile, \"w\") as dest:\n",
    "        holdover = \"\"\n",
    "        for line in source.readlines():\n",
    "            line = line.rstrip(\"\\n\")\n",
    "            if line.endswith(\"¬\"):\n",
    "                lin, _, e = line.rpartition(\" \")\n",
    "            else:\n",
    "                lin, e = line, \"\"\n",
    "            dest.write(f\"{holdover}{lin}\\n\")\n",
    "            holdover = e[:-1]\n",
    "\n",
    "if __name__ == \"__main__\":\n",
    "    reflow(\"/Users/wanjagerber/desktop/txt/brescia.txt\", \"/Users/wanjagerber/desktop/txt/bresciaModified.txt\")\n"
   ]
  },
  {
   "cell_type": "code",
   "execution_count": null,
   "metadata": {},
   "outputs": [],
   "source": [
    "#Seitenzahlen entfernen\n",
    "\n",
    "import re\n",
    "\n",
    "def remove_three_digit_numbers(infile, outfile):\n",
    "    with open(infile) as source, open(outfile, \"w\") as dest:\n",
    "        for line in source:\n",
    "            # Remove all three-digit numbers from the line\n",
    "            line_without_numbers = re.sub(r'\\b\\d{3}\\b', '', line)\n",
    "            # Remove extra whitespace (except for newlines)\n",
    "            line_without_whitespace = re.sub(r'(?<!\\n)\\s+(?!\\n)', ' ', line_without_numbers)\n",
    "            dest.write(line_without_whitespace)\n",
    "\n",
    "if __name__ == \"__main__\":\n",
    "    reflow(\"/Users/wanjagerber/desktop/txt/bresciaModified.txt\", \"/Users/wanjagerber/desktop/txt/bresciaReady.txt\")\n"
   ]
  },
  {
   "cell_type": "code",
   "execution_count": null,
   "metadata": {},
   "outputs": [],
   "source": [
    "#Zeilenumbruch nach jedem Satz\n",
    "\n",
    "import re\n",
    "\n",
    "def process_text(input_file, output_file):\n",
    "    # Read the entire content from the input file\n",
    "    with open(input_file, 'r', encoding='utf-8') as infile:\n",
    "        text = infile.read()\n",
    "\n",
    "    # Remove all line breaks that aren't at the end of a sentence\n",
    "    text = re.sub(r'(?<!\\.)\\n', ' ', text)\n",
    "\n",
    "    # Add a line break after each sentence\n",
    "    sentences = re.split(r'(?<=\\.)\\s+', text)\n",
    "    formatted_text = '\\n'.join(sentences)\n",
    "\n",
    "    # Write the formatted text to the output file\n",
    "    with open(output_file, 'w', encoding='utf-8') as outfile:\n",
    "        outfile.write(formatted_text)\n",
    "\n",
    "if __name__ == \"__main__\":\n",
    "    input_path = '/Users/wanjagerber/desktop/txt/bresciaReady.txt'\n",
    "    output_path = '/Users/wanjagerber/desktop/txt/bresciaFinal.txt'\n",
    "    process_text(input_path, output_path)\n",
    "\n",
    "            "
   ]
  },
  {
   "cell_type": "code",
   "execution_count": 3,
   "metadata": {},
   "outputs": [
    {
     "name": "stdout",
     "output_type": "stream",
     "text": [
      "Anzahl Zeichen im Text: 1905\n",
      " were well worked in the fugue and oratorio way. But for this kind of music, that of Handel will, I believe, ever stand superior to all other writers; at least I have heard nothing yet on the continent of equal force and effect. There is often in the compositions of others, more melody in the solo parts, more delicacy, and more light and shade, but as to harmony and contrivance, no one comes near him by many degrees. I must confess that I had heard some of Handel's music so long, and often so ill performed, that I was somewhat tired and disgusted with it; but my Italian journey, instead of lowering the esteem I ever had for the best writings of that truly great artist, exalted them in my opinion, and at my return renewed my pleasure in hearing them performed. As yet I had heard little but church music in Italy; however, in that stile, with instruments, all other compositions appeared feeble by comparison. The subjects of the fugues were, in gene158 ral, trivial and common, and the manner of working them dry and artless. Indeed the church stile, without instruments, except the organ, was well known in Italy, and all over Europe, long before Handel's time; and melody is certainly much refined since. it is more graceful, more pathetic, and even more gay; but for counter-point, fugues, and chorusses of many voices, with instruments, I repeat it, I neither have heard, nor do I ever expect to hear him equalled. 10th. This morning I went again to the church of the convent of St. Laurence, where, besides a mass of Signor Sacchini's composition, I heard Signor Nazzari, the first violin of Venice, play a concerto; but we have long heard that instrument so well performed upon in England, that nothing is left to admire. However, Signor Nazzari is certainly a very neat and pleasing player; his tone is even, sweet, and full; he plays with great facility and expression, and is, upon the \n",
      "Anzahl Tokens im Text: 403\n",
      "Anzahl Sätze im Text: 11\n"
     ]
    }
   ],
   "source": [
    "with open (\"/Users/wanjagerber/desktop/txt/testFinal.txt\",'r', encoding='utf-8') as file: \n",
    "    text = file.read()\n",
    "\n",
    "\n",
    "print(\"Anzahl Zeichen im Text: \" + str(len(text)))\n",
    "\n",
    "import spacy\n",
    "\n",
    "nlp = spacy.load(\"en_core_web_sm\")\n",
    "doc = nlp(text)\n",
    "print(doc)\n",
    "\n",
    "tokens = []\n",
    "for token in doc: \n",
    "    tokens.append(token)\n",
    "\n",
    "print(\"Anzahl Tokens im Text: \" + str(len(tokens)))\n",
    "\n",
    "sentences = []\n",
    "for sent in doc.sents: \n",
    "    sentences.append(sent)\n",
    "\n",
    "print(\"Anzahl Sätze im Text: \" + str(len(sentences)))\n",
    "\n",
    "with open('/Users/wanjagerber/desktop/txt/testFinal_sentences.txt', 'w', encoding='utf-8') as f:\n",
    "    for s in sentences: \n",
    "        if str(s).endswith('.'):\n",
    "            f.write(str(s) + '\\n')\n",
    "        else:\n",
    "             f.write(str(s) + ' ')\n",
    "            "
   ]
  }
 ],
 "metadata": {
  "kernelspec": {
   "display_name": "base",
   "language": "python",
   "name": "python3"
  },
  "language_info": {
   "codemirror_mode": {
    "name": "ipython",
    "version": 3
   },
   "file_extension": ".py",
   "mimetype": "text/x-python",
   "name": "python",
   "nbconvert_exporter": "python",
   "pygments_lexer": "ipython3",
   "version": "3.11.5"
  }
 },
 "nbformat": 4,
 "nbformat_minor": 2
}
