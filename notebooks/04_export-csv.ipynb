{
 "cells": [
  {
   "cell_type": "markdown",
   "metadata": {},
   "source": [
    "Um die ausgezeichneten Daten bei Nodegoat importieren zu können, müssen sie im csv-Format vorliegen. Für den Export der Daten von der xml-Datei wird das folgende Skript verwendet[^1].\n",
    "\n",
    "[^1]: Dieses Skript wurde grosszügigerweise von Dr. Elena Spadini zur Verfügung gestellt, wofür ihr die Au-tor*innen an dieser Stelle danken. Das Skript wurde für die Verwendung im Projekt angepasst."
   ]
  },
  {
   "cell_type": "code",
   "execution_count": 2,
   "metadata": {},
   "outputs": [],
   "source": [
    "import csv\n",
    "from lxml import etree\n",
    "\n",
    "# XML file lesen\n",
    "tree = etree.parse('/users/wanjagerber/downloads/veniceNER_updated.xml')\n",
    "root = tree.getroot()\n",
    "\n",
    "# CSV file öffnen, um darin die Daten zu sichern, encoding als utf-8 spezifizieren\n",
    "with open('/users/wanjagerber/downloads/venice-output.csv', 'w', newline='', encoding='utf-8') as csvfile:\n",
    "    # CSV writer object erstellen\n",
    "    csvwriter = csv.writer(csvfile, delimiter=';', quotechar='\"', quoting=csv.QUOTE_MINIMAL)\n",
    "    \n",
    "    # Kopfzeile schreiben\n",
    "    csvwriter.writerow(['event_id', 'persName', 'placeName', 'date', 'instrument', 'music'])\n",
    "\n",
    "    # Für jedes \"event\" element in der XML-Datei\n",
    "    for event in root.iter('event'):\n",
    "        # event ID erhalten\n",
    "        event_id = event.attrib.get('id', '')\n",
    "\n",
    "        # Variabeln zum Speichern der Textwerte initialisieren\n",
    "        all_persnames = ''\n",
    "        all_placenames = ''\n",
    "        all_dates = ''\n",
    "        all_instruments = ''\n",
    "        all_musicpieces = ''\n",
    "\n",
    "        # Überprüfen, ob persName-Elemente im event existieren\n",
    "        persnames = event.findall('persName')\n",
    "        if persnames:\n",
    "            all_persnames = ', '.join([persname.text for persname in persnames])\n",
    "\n",
    "        # Überprüfen, ob placeName-Elemente im event existieren\n",
    "        placenames = event.findall('placeName')\n",
    "        if placenames:\n",
    "            all_placenames = ', '.join([placename.text for placename in placenames])\n",
    "\n",
    "        # Überprüfen, ob date-Elemente im event existieren\n",
    "        dates = event.findall('date')\n",
    "        if dates:\n",
    "            all_dates = ', '.join([date.text for date in dates])\n",
    "\n",
    "        # Überprüfen, ob instrument-Elemente im event existieren\n",
    "        instruments = event.findall('instrument')\n",
    "        if instruments:\n",
    "            all_instruments = ', '.join([instrument.text for instrument in instruments])\n",
    "\n",
    "        # Überprüfen, ob music-Elemente im event existieren\n",
    "        musicpieces = event.findall('music')\n",
    "        if musicpieces:\n",
    "            all_musicpieces = ', '.join([musicpiece.text for musicpiece in musicpieces])\n",
    "\n",
    "        # In CSV-Datei speichern\n",
    "        csvwriter.writerow([event_id, all_persnames, all_placenames, all_dates, all_instruments, all_musicpieces])\n"
   ]
  }
 ],
 "metadata": {
  "kernelspec": {
   "display_name": "Python 3",
   "language": "python",
   "name": "python3"
  },
  "language_info": {
   "codemirror_mode": {
    "name": "ipython",
    "version": 3
   },
   "file_extension": ".py",
   "mimetype": "text/x-python",
   "name": "python",
   "nbconvert_exporter": "python",
   "pygments_lexer": "ipython3",
   "version": "3.11.5"
  }
 },
 "nbformat": 4,
 "nbformat_minor": 2
}
