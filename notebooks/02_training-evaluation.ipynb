{
 "cells": [
  {
   "cell_type": "code",
   "execution_count": 4,
   "metadata": {},
   "outputs": [
    {
     "name": "stdout",
     "output_type": "stream",
     "text": [
      "76.0\n",
      "Trainingsdaten: 76\n",
      "Validierungsdaten: 19\n"
     ]
    }
   ],
   "source": [
    "#Daten in Trainingsdaten und Validierungsdaten aufteilen\n",
    "import json\n",
    "\n",
    "f = open('/Users/wanjagerber/downloads/veniceAnnotations.json')\n",
    "data = json.load(f)\n",
    "TAGGED_DATA = data['annotations']\n",
    "\n",
    "print(len(TAGGED_DATA)*0.8)\n",
    "\n",
    "import random \n",
    "\n",
    "random.shuffle(TAGGED_DATA)\n",
    "train_data = TAGGED_DATA[:76]\n",
    "val_data = TAGGED_DATA[76:]\n",
    "\n",
    "print(\"Trainingsdaten: \" + str(len(train_data)))\n",
    "print(\"Validierungsdaten: \" + str(len(val_data)))\n",
    "\n",
    "\n",
    "with open ('/Users/wanjagerber/desktop/burneyNER/trainData.json', 'w', encoding='utf-8') as train: \n",
    "    json.dump(train_data, train, ensure_ascii=False, indent=4)\n",
    "with open ('/Users/wanjagerber/desktop/burneyNER/valuationData.json', 'w', encoding='utf-8') as val: \n",
    "    json.dump(val_data, val, ensure_ascii=False, indent=4)\n"
   ]
  },
  {
   "cell_type": "markdown",
   "metadata": {},
   "source": [
    "\n",
    "Hier muss nun folgender Zusatz in die Trainings- und Validierungsdaten eingefügt werden, sowie eine ```python\n",
    "'}'\n",
    "``` um das Dokument zu schliessen. Ausserdem existiert noch immer das Prolem der 'null'-Werte, die vom NER-Annotator generiert werden. Durch die Formatierung konnten sie reduziert, aber nicht vollständig umgangen werden. Daher müssen die restlichen 'Null'-Werte hier durch Suchen und Ersetzen entfernt werden.\n"
   ]
  },
  {
   "cell_type": "code",
   "execution_count": null,
   "metadata": {},
   "outputs": [],
   "source": [
    "{\"classes\": [\"DATE\",\"LOCATION\", \"PERSON\",\"INSTRUMENT\",\"MUSIC\"],\n",
    "    \"annotations\":\n"
   ]
  },
  {
   "cell_type": "markdown",
   "metadata": {},
   "source": [
    "\n",
    "Dann können die Dateien ins spacy-Format konvertiert werden.\n"
   ]
  },
  {
   "cell_type": "code",
   "execution_count": 9,
   "metadata": {},
   "outputs": [
    {
     "name": "stderr",
     "output_type": "stream",
     "text": [
      "100%|██████████| 67/67 [00:00<00:00, 139.08it/s]\n"
     ]
    }
   ],
   "source": [
    "import spacy\n",
    "from spacy.tokens import DocBin\n",
    "from tqdm import tqdm\n",
    "import json\n",
    "\n",
    "#neues spacy Model laden\n",
    "nlp = spacy.load(\"en_core_web_md\") \n",
    "\n",
    "#DocBin Objekt erstellen\n",
    "db = DocBin() \n",
    "\n",
    "#Trainingsdaten\n",
    "f = open('/Users/wanjagerber/desktop/burneyNER/trainData.json')\n",
    "TRAIN_DATA = json.load(f)\n",
    "\n",
    "for text, annot in tqdm(TRAIN_DATA['annotations']): \n",
    "    doc = nlp.make_doc(text) \n",
    "    ents = []\n",
    "    for start, end, label in annot[\"entities\"]:\n",
    "        span = doc.char_span(start, end, label=label, alignment_mode=\"contract\")\n",
    "        if span is None:\n",
    "            print(\"Skipping entity\")\n",
    "        else:\n",
    "            ents.append(span)\n",
    "    doc.ents = ents \n",
    "    db.add(doc)\n",
    "\n",
    "#Docbin Objekt speichern\n",
    "db.to_disk(\"/Users/wanjagerber/desktop/burneyNER/trainData.spacy\") "
   ]
  },
  {
   "cell_type": "code",
   "execution_count": 10,
   "metadata": {},
   "outputs": [
    {
     "name": "stderr",
     "output_type": "stream",
     "text": [
      "100%|██████████| 18/18 [00:00<00:00, 354.64it/s]\n"
     ]
    }
   ],
   "source": [
    "#Valuiierungsdaten\n",
    "f = open('/Users/wanjagerber/desktop/burneyNER/valuationData.json')\n",
    "VAL_DATA = json.load(f)\n",
    "\n",
    "for text, annot in tqdm(VAL_DATA['annotations']): \n",
    "    doc = nlp.make_doc(text) \n",
    "    ents = []\n",
    "    for start, end, label in annot[\"entities\"]:\n",
    "        span = doc.char_span(start, end, label=label, alignment_mode=\"contract\")\n",
    "        if span is None:\n",
    "            print(\"Skipping entity\")\n",
    "        else:\n",
    "            ents.append(span)\n",
    "    doc.ents = ents \n",
    "    db.add(doc)\n",
    "\n",
    "#Docbin Objekt speichern\n",
    "db.to_disk(\"/Users/wanjagerber/desktop/burneyNER/valuationData.spacy\") "
   ]
  },
  {
   "cell_type": "code",
   "execution_count": 12,
   "metadata": {},
   "outputs": [
    {
     "name": "stderr",
     "output_type": "stream",
     "text": [
      "100%|██████████| 11/11 [00:00<00:00, 794.47it/s]\n"
     ]
    }
   ],
   "source": [
    "#Testdata\n",
    "f = open('/Users/wanjagerber/desktop/burneyNER/testData.json')\n",
    "TEST_DATA = json.load(f)\n",
    "\n",
    "for text, annot in tqdm(TEST_DATA['annotations']): \n",
    "    doc = nlp.make_doc(text) \n",
    "    ents = []\n",
    "    for start, end, label in annot[\"entities\"]:\n",
    "        span = doc.char_span(start, end, label=label, alignment_mode=\"contract\")\n",
    "        if span is None:\n",
    "            print(\"Skipping entity\")\n",
    "        else:\n",
    "            ents.append(span)\n",
    "    doc.ents = ents \n",
    "    db.add(doc)\n",
    "\n",
    "#Docbin Objekt speichern\n",
    "db.to_disk(\"/Users/wanjagerber/desktop/burneyNER/testData.spacy\")"
   ]
  }
 ],
 "metadata": {
  "kernelspec": {
   "display_name": "base",
   "language": "python",
   "name": "python3"
  },
  "language_info": {
   "codemirror_mode": {
    "name": "ipython",
    "version": 3
   },
   "file_extension": ".py",
   "mimetype": "text/x-python",
   "name": "python",
   "nbconvert_exporter": "python",
   "pygments_lexer": "ipython3",
   "version": "3.11.5"
  }
 },
 "nbformat": 4,
 "nbformat_minor": 2
}
