{
 "cells": [
  {
   "cell_type": "code",
   "execution_count": null,
   "metadata": {},
   "outputs": [],
   "source": [
    "#Daten in Trainingsdaten und Validierungsdaten aufteilen\n",
    "import json\n",
    "\n",
    "f = open('/Users/wanjagerber/downloads/annotations-6.json')\n",
    "data = json.load(f)\n",
    "TAGGED_DATA = data['annotations']\n",
    "\n",
    "print(len(TAGGED_DATA)*0.8)\n",
    "\n",
    "import random \n",
    "\n",
    "random.shuffle(TAGGED_DATA)\n",
    "train_data = TAGGED_DATA[:76]\n",
    "val_data = TAGGED_DATA[76:]\n",
    "\n",
    "print(\"Trainingsdaten: \" + str(len(train_data)))\n",
    "print(\"Validierungsdaten: \" + str(len(val_data)))\n",
    "\n",
    "\n",
    "with open ('/Users/wanjagerber/desktop/finalNER/trainData.json', 'w', encoding='utf-8') as train: \n",
    "    json.dump(train_data, train, ensure_ascii=False, indent=4)\n",
    "with open ('/Users/wanjagerber/desktop/finalNER/valuationData.json', 'w', encoding='utf-8') as val: \n",
    "    json.dump(val_data, val, ensure_ascii=False, indent=4)\n"
   ]
  },
  {
   "cell_type": "code",
   "execution_count": null,
   "metadata": {},
   "outputs": [],
   "source": [
    "import spacy\n",
    "from spacy.tokens import DocBin\n",
    "from tqdm import tqdm\n",
    "import json\n",
    "\n",
    "#neues spacy Model laden\n",
    "nlp = spacy.load(\"en_core_web_md\") \n",
    "\n",
    "#DocBin Objekt erstellen\n",
    "db = DocBin() \n",
    "\n",
    "#Trainingsdaten\n",
    "f = open('/Users/wanjagerber/desktop/finalNER/trainData.json')\n",
    "TRAIN_DATA = json.load(f)\n",
    "\n",
    "for text, annot in tqdm(TRAIN_DATA['annotations']): \n",
    "    doc = nlp.make_doc(text) \n",
    "    ents = []\n",
    "    for start, end, label in annot[\"entities\"]:\n",
    "        span = doc.char_span(start, end, label=label, alignment_mode=\"contract\")\n",
    "        if span is None:\n",
    "            print(\"Skipping entity\")\n",
    "        else:\n",
    "            ents.append(span)\n",
    "    doc.ents = ents \n",
    "    db.add(doc)\n",
    "\n",
    "#Docbin Objekt speichern\n",
    "db.to_disk(\"/Users/wanjagerber/desktop/finalNER/trainData.spacy\") "
   ]
  },
  {
   "cell_type": "code",
   "execution_count": null,
   "metadata": {},
   "outputs": [],
   "source": [
    "#Valuiierungsdaten\n",
    "f = open('/Users/wanjagerber/desktop/finalNER/valuationData.json')\n",
    "VAL_DATA = json.load(f)\n",
    "\n",
    "for text, annot in tqdm(VAL_DATA['annotations']): \n",
    "    doc = nlp.make_doc(text) \n",
    "    ents = []\n",
    "    for start, end, label in annot[\"entities\"]:\n",
    "        span = doc.char_span(start, end, label=label, alignment_mode=\"contract\")\n",
    "        if span is None:\n",
    "            print(\"Skipping entity\")\n",
    "        else:\n",
    "            ents.append(span)\n",
    "    doc.ents = ents \n",
    "    db.add(doc)\n",
    "\n",
    "#Docbin Objekt speichern\n",
    "db.to_disk(\"/Users/wanjagerber/desktop/finalNER/valuationData.spacy\") "
   ]
  },
  {
   "cell_type": "code",
   "execution_count": null,
   "metadata": {},
   "outputs": [],
   "source": [
    "#Testdata\n",
    "f = open('/Users/wanjagerber/desktop/finalNER/testData.json')\n",
    "TEST_DATA = json.load(f)\n",
    "\n",
    "for text, annot in tqdm(TEST_DATA['annotations']): \n",
    "    doc = nlp.make_doc(text) \n",
    "    ents = []\n",
    "    for start, end, label in annot[\"entities\"]:\n",
    "        span = doc.char_span(start, end, label=label, alignment_mode=\"contract\")\n",
    "        if span is None:\n",
    "            print(\"Skipping entity\")\n",
    "        else:\n",
    "            ents.append(span)\n",
    "    doc.ents = ents \n",
    "    db.add(doc)\n",
    "\n",
    "#Docbin Objekt speichern\n",
    "db.to_disk(\"/Users/wanjagerber/desktop/finalNER/testData.spacy\")"
   ]
  }
 ],
 "metadata": {
  "kernelspec": {
   "display_name": "base",
   "language": "python",
   "name": "python3"
  },
  "language_info": {
   "codemirror_mode": {
    "name": "ipython",
    "version": 3
   },
   "file_extension": ".py",
   "mimetype": "text/x-python",
   "name": "python",
   "nbconvert_exporter": "python",
   "pygments_lexer": "ipython3",
   "version": "3.11.5"
  }
 },
 "nbformat": 4,
 "nbformat_minor": 2
}
