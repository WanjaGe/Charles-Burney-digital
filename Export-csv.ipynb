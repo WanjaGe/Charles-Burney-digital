{
 "cells": [
  {
   "cell_type": "code",
   "execution_count": 2,
   "metadata": {},
   "outputs": [],
   "source": [
    "import csv\n",
    "from lxml import etree\n",
    "\n",
    "# Read the XML file\n",
    "tree = etree.parse('/users/wanjagerber/downloads/bresciaNER_updated.xml')\n",
    "root = tree.getroot()\n",
    "\n",
    "# Open a CSV file to write the data to, specify encoding as utf-8\n",
    "with open('/users/wanjagerber/downloads/brescia-output2.csv', 'w', newline='', encoding='utf-8') as csvfile:\n",
    "    # Create a CSV writer object\n",
    "    csvwriter = csv.writer(csvfile, delimiter=';', quotechar='\"', quoting=csv.QUOTE_MINIMAL)\n",
    "    \n",
    "    # Write the header row\n",
    "    csvwriter.writerow(['event_id', 'persName', 'placeName', 'date', 'instrument', 'music'])\n",
    "\n",
    "    # For each event element in the XML file\n",
    "    for event in root.iter('event'):\n",
    "        # Get event ID\n",
    "        event_id = event.attrib.get('id', '')\n",
    "\n",
    "        # Initialize variables to store text values\n",
    "        all_persnames = ''\n",
    "        all_placenames = ''\n",
    "        all_dates = ''\n",
    "        all_instruments = ''\n",
    "        all_musicpieces = ''\n",
    "\n",
    "        # Check if persName elements exist in the event\n",
    "        persnames = event.findall('persName')\n",
    "        if persnames:\n",
    "            all_persnames = ', '.join([persname.text for persname in persnames])\n",
    "\n",
    "        # Check if placeName elements exist in the event\n",
    "        placenames = event.findall('placeName')\n",
    "        if placenames:\n",
    "            all_placenames = ', '.join([placename.text for placename in placenames])\n",
    "\n",
    "        # Check if date elements exist in the event\n",
    "        dates = event.findall('date')\n",
    "        if dates:\n",
    "            all_dates = ', '.join([date.text for date in dates])\n",
    "\n",
    "        # Check if instrument elements exist in the event\n",
    "        instruments = event.findall('instrument')\n",
    "        if instruments:\n",
    "            all_instruments = ', '.join([instrument.text for instrument in instruments])\n",
    "\n",
    "        # Check if music elements exist in the event\n",
    "        musicpieces = event.findall('music')\n",
    "        if musicpieces:\n",
    "            all_musicpieces = ', '.join([musicpiece.text for musicpiece in musicpieces])\n",
    "\n",
    "        # Write the row to the CSV file\n",
    "        csvwriter.writerow([event_id, all_persnames, all_placenames, all_dates, all_instruments, all_musicpieces])\n"
   ]
  }
 ],
 "metadata": {
  "kernelspec": {
   "display_name": "Python 3",
   "language": "python",
   "name": "python3"
  },
  "language_info": {
   "codemirror_mode": {
    "name": "ipython",
    "version": 3
   },
   "file_extension": ".py",
   "mimetype": "text/x-python",
   "name": "python",
   "nbconvert_exporter": "python",
   "pygments_lexer": "ipython3",
   "version": "3.11.5"
  }
 },
 "nbformat": 4,
 "nbformat_minor": 2
}
